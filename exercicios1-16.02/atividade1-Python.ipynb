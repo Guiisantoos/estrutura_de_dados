{
 "cells": [
  {
   "cell_type": "code",
   "execution_count": null,
   "metadata": {
    "vscode": {
     "languageId": "plaintext"
    }
   },
   "outputs": [],
   "source": [
    "num1 = float(input(\"Digite o primeiro número: \"))\n",
    "num2 = float(input(\"Digite o segundo número: \"))\n",
    "\n",
    "print(f\"Soma: {num1 + num2}\")\n",
    "print(f\"Multiplicação:{num1 * num2}\")\n",
    "print(f\"Divisão:{num1 / num2}\")\n",
    "print(f\"Divisão inteira:{num1 // num2}\")\n",
    "print(f\"Módulo(resto da divisão):{num1 % num2}\")\n",
    "print(f\"Exponenciação:{num1 ** num2}\")"
   ]
  }
 ],
 "metadata": {
  "language_info": {
   "name": "python"
  }
 },
 "nbformat": 4,
 "nbformat_minor": 2
}
