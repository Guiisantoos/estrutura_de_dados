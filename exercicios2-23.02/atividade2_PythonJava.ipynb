{
  "nbformat": 4,
  "nbformat_minor": 0,
  "metadata": {
    "colab": {
      "provenance": []
    },
    "kernelspec": {
      "name": "python3",
      "display_name": "Python 3"
    },
    "language_info": {
      "name": "python"
    }
  },
  "cells": [
    {
      "cell_type": "markdown",
      "source": [],
      "metadata": {
        "id": "Lt7Tbk0EGEC9"
      }
    },
    {
      "cell_type": "code",
      "execution_count": 1,
      "metadata": {
        "id": "jaP82G0xF5I4"
      },
      "outputs": [],
      "source": [
        "def exercicio1(n):\n",
        "    i = 0  # Inicialização de i, custo c1, executado 1 vez\n",
        "    a = 0  # Inicialização de a, custo c2, executado 1 vez\n",
        "\n",
        "    while i < n:  # Loop while, custo c3, executado aproximadamente n vezes\n",
        "        a += i   # ?\n",
        "        i += 1   # ?\n",
        "    return a     # Retorno de a, custo c6, executado 1 vez"
      ]
    },
    {
      "cell_type": "markdown",
      "source": [
        "Pergunta 1 - Qual é o custo e o numero de execuções das linhas que estão com interrogação (# ?) acima?\n",
        "\n",
        "Resposta:\n",
        "\n",
        "Linha a += i: Custo associado c4, número de execuções: n.\n",
        "\n",
        "Linha i += 1: Custo associado c5, número de execuções: n."
      ],
      "metadata": {
        "id": "RZiW_uwqGE71"
      }
    },
    {
      "cell_type": "markdown",
      "source": [
        "Pergunta 2 - Qual é o tempo de execução ( T(n) ) do exercicio acima?\n",
        "\n",
        "Resposta:\n",
        "T(n)= c1⋅1 + c2⋅1 + c3⋅n + c4⋅n + c5⋅n + c6⋅1\n",
        "\n",
        "T(n)= c1 + c2 + c6 + (c3+c4+c5)⋅n"
      ],
      "metadata": {
        "id": "iRRbiYX6Id2I"
      }
    },
    {
      "cell_type": "markdown",
      "source": [
        "Pergunta 3 - Para grandes valores de ( n ), qual é a complexidade de tempo do exercicio1?\n",
        "\n",
        "O termo dominante é (c3+c4+c5)⋅n.\n",
        "\n",
        "Assim, a complexidade assintótica é:\n",
        "\n",
        "T(n)∈O(n)\n",
        "\n",
        "crescimento linear com o tamanho de n."
      ],
      "metadata": {
        "id": "YmaM-xJoJqpi"
      }
    },
    {
      "cell_type": "markdown",
      "source": [
        "![image.png](data:image/png;base64,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)\n",
        "\n",
        "Pergunta 4 -Qual e a complexidade de pior caso do Insertion sort (em termos de big-O e θ)?\n",
        "\n",
        "Resposta:\n",
        "\n",
        "Big-O: O(n²)\n",
        "\n",
        "Theta (θ): θ(n²)"
      ],
      "metadata": {
        "id": "VwLFh3LKdQJV"
      }
    },
    {
      "cell_type": "markdown",
      "source": [
        "Pergunta 5 -Qual e a complexidade do melhor caso do Insertion sort (em termos de big-O, θ e Ω)?\n",
        "\n",
        "Resposta:\n",
        "\n",
        "Big-O: O(n²)\n",
        "\n",
        "Theta (θ): θ(n)\n",
        "\n",
        "Ômega (Ω): Ω(n)\n",
        "\n"
      ],
      "metadata": {
        "id": "5dHXzJWXeBJE"
      }
    }
  ]
}