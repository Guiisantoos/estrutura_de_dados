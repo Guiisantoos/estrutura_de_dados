{
  "nbformat": 4,
  "nbformat_minor": 0,
  "metadata": {
    "colab": {
      "provenance": []
    },
    "kernelspec": {
      "name": "python3",
      "display_name": "Python 3"
    },
    "language_info": {
      "name": "python"
    }
  },
  "cells": [
    {
      "cell_type": "markdown",
      "source": [
        "Atividade 3 - Herança (Em Python) (3 pontos) - 02.03"
      ],
      "metadata": {
        "id": "L5F3v5xCL55H"
      }
    },
    {
      "cell_type": "code",
      "execution_count": null,
      "metadata": {
        "colab": {
          "base_uri": "https://localhost:8080/"
        },
        "id": "y6oqGScQJsBk",
        "outputId": "b93ff288-57cd-48c0-fc75-a29c12406c0c"
      },
      "outputs": [
        {
          "output_type": "stream",
          "name": "stdout",
          "text": [
            "Name: Alice, Age: 30\n",
            "Student ID: S54321\n",
            "Name: Bob, Age: 20\n",
            "Student ID: S12345\n"
          ]
        }
      ],
      "source": [
        "class Person:\n",
        "    def __init__(self, name, age):\n",
        "        self.name = name\n",
        "        self.age = age\n",
        "\n",
        "    def display_info(self):\n",
        "        print(f\"Name: {self.name}, Age: {self.age}\")\n",
        "\n",
        "class Student(Person):\n",
        "    def __init__(self, name, age, student_id):\n",
        "        super().__init__(name, age)\n",
        "        self.student_id = student_id\n",
        "\n",
        "    def display_info(self):\n",
        "        super().display_info()\n",
        "        print(f\"Student ID: {self.student_id}\")\n",
        "\n",
        "# Exemplos:\n",
        "p1 = Student(\"Alice\", 30, \"S54321\")\n",
        "p1.display_info()\n",
        "\n",
        "s1 = Student(\"Bob\", 20, \"S12345\")\n",
        "s1.display_info()"
      ]
    },
    {
      "cell_type": "code",
      "source": [
        "# Exercício 2\n",
        "class BankAccount:\n",
        "    def __init__(self, initial_balance=0):\n",
        "        self.__balance = initial_balance\n",
        "\n",
        "    def deposit(self, amount):\n",
        "        if amount > 0:\n",
        "            self.__balance += amount\n",
        "            print(f\"Depósito de {amount} realizado com sucesso!\")\n",
        "        else:\n",
        "            print(\"O valor do depósito deve ser positivo.\")\n",
        "\n",
        "    def withdraw(self, amount):\n",
        "        if 0 < amount <= self.__balance:\n",
        "            self.__balance -= amount\n",
        "            print(f\"Saque de {amount} realizado com sucesso!\")\n",
        "        else:\n",
        "            print(\"Valor de saque inválido ou saldo insuficiente.\")\n",
        "\n",
        "    def get_balance(self):\n",
        "        return self.__balance\n",
        "\n",
        "\n",
        "josePeruibe = BankAccount(40)\n",
        "josePeruibe.deposit(500)\n",
        "josePeruibe.withdraw(200)\n",
        "print(f\"Saldo atual de Jose Peruibe: {josePeruibe.get_balance()}\")\n",
        "\n",
        "claudioMenezes = BankAccount(0)\n",
        "claudioMenezes.deposit(400)\n",
        "claudioMenezes.withdraw(500)\n",
        "print(f\"Saldo atual de Claudio Menezes: {claudioMenezes.get_balance()}\")"
      ],
      "metadata": {
        "colab": {
          "base_uri": "https://localhost:8080/"
        },
        "id": "l5EE62o1Oi25",
        "outputId": "0b5be5e1-496a-4154-dafd-4169513121aa"
      },
      "execution_count": 12,
      "outputs": [
        {
          "output_type": "stream",
          "name": "stdout",
          "text": [
            "Depósito de 500 realizado com sucesso!\n",
            "Saque de 200 realizado com sucesso!\n",
            "Saldo atual de Jose Peruibe: 340\n",
            "Depósito de 400 realizado com sucesso!\n",
            "Valor de saque inválido ou saldo insuficiente.\n",
            "Saldo atual de Claudio Menezes: 400\n"
          ]
        }
      ]
    }
  ]
}